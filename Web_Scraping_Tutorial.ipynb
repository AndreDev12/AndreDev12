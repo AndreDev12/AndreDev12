{
  "nbformat": 4,
  "nbformat_minor": 0,
  "metadata": {
    "colab": {
      "provenance": [],
      "authorship_tag": "ABX9TyMozyuPt2n7A10nrYU5asEJ",
      "include_colab_link": true
    },
    "kernelspec": {
      "name": "python3",
      "display_name": "Python 3"
    },
    "language_info": {
      "name": "python"
    }
  },
  "cells": [
    {
      "cell_type": "markdown",
      "metadata": {
        "id": "view-in-github",
        "colab_type": "text"
      },
      "source": [
        "<a href=\"https://colab.research.google.com/github/AndreDev12/AndreDev12/blob/master/Web_Scraping_Tutorial.ipynb\" target=\"_parent\"><img src=\"https://colab.research.google.com/assets/colab-badge.svg\" alt=\"Open In Colab\"/></a>"
      ]
    },
    {
      "cell_type": "code",
      "execution_count": 1,
      "metadata": {
        "id": "qH11ZfOomEWC",
        "colab": {
          "base_uri": "https://localhost:8080/"
        },
        "outputId": "f3083a1d-0488-4fc4-8c86-d1b12ddf2944"
      },
      "outputs": [
        {
          "output_type": "stream",
          "name": "stdout",
          "text": [
            "Cloning into 'im-tutorials'...\n",
            "remote: Enumerating objects: 230, done.\u001b[K\n",
            "remote: Counting objects: 100% (6/6), done.\u001b[K\n",
            "remote: Compressing objects: 100% (3/3), done.\u001b[K\n",
            "remote: Total 230 (delta 3), reused 3 (delta 3), pack-reused 224\u001b[K\n",
            "Receiving objects: 100% (230/230), 10.57 MiB | 24.42 MiB/s, done.\n",
            "Resolving deltas: 100% (96/96), done.\n"
          ]
        }
      ],
      "source": [
        "# Before we begin, run this cell if you are using Colab\n",
        "!git clone -b 3-ysi-tutorial https://github.com/nestauk/im-tutorials.git"
      ]
    },
    {
      "cell_type": "code",
      "source": [
        "# Estudiante Huambachano Torres Héctor André"
      ],
      "metadata": {
        "id": "D1RRKwWxVNIW"
      },
      "execution_count": null,
      "outputs": []
    },
    {
      "cell_type": "markdown",
      "source": [
        "Crear una simple página HTML"
      ],
      "metadata": {
        "id": "U3Am0BioTONf"
      }
    },
    {
      "cell_type": "code",
      "source": [
        "from IPython.core.display import display, HTML"
      ],
      "metadata": {
        "id": "32GtJypzTDGg"
      },
      "execution_count": 2,
      "outputs": []
    },
    {
      "cell_type": "code",
      "source": [
        "display(HTML(\"\"\"\n",
        "<!DOCTYPE html>\n",
        "<html lang=\"en\" dir=\"ltr\">\n",
        "<head>\n",
        "  <title>Intro to HTML</title>\n",
        "</head>\n",
        "\n",
        "<body>\n",
        "  <h1>Heading h1</h1>\n",
        "  <h2>Heading h2</h2>\n",
        "  <h3>Heading h3</h3>\n",
        "  <h4>Heading h4</h4>\n",
        "\n",
        "  <p>\n",
        "    That's a text paragraph. You can also <b>bold</b>, <mark>mark</mark>, <ins>underline</ins>, <del>strikethrough</del> and <i>emphasize</i> words.\n",
        "    You can also add links - here's one to <a href=\"https://en.wikipedia.org/wiki/Main_Page\">Wikipedia</a>.\n",
        "  </p>\n",
        "\n",
        "  <p>\n",
        "    This <br> is a paragraph <br> with <br> line breaks\n",
        "  </p>\n",
        "\n",
        "  <p style=\"color:red\">\n",
        "    Add colour to your paragraphs.\n",
        "  </p>\n",
        "\n",
        "  <p>Unordered list:</p>\n",
        "  <ul>\n",
        "    <li>Python</li>\n",
        "    <li>R</li>\n",
        "    <li>Julia</li>\n",
        "  </ul>\n",
        "\n",
        "  <p>Ordered list:</p>\n",
        "  <ol>\n",
        "    <li>Data collection</li>\n",
        "    <li>Exploratory data analysis</li>\n",
        "    <li>Data analysis</li>\n",
        "    <li>Policy recommendations</li>\n",
        "  </ol>\n",
        "  <hr>\n",
        "\n",
        "  <!-- This is a comment -->\n",
        "\n",
        "</body>\n",
        "</html>\n",
        "\"\"\"))"
      ],
      "metadata": {
        "colab": {
          "base_uri": "https://localhost:8080/",
          "height": 520
        },
        "id": "ktok61kxTEo8",
        "outputId": "c8704531-63e6-4331-c6f8-f252dcdec15c"
      },
      "execution_count": 3,
      "outputs": [
        {
          "output_type": "display_data",
          "data": {
            "text/plain": [
              "<IPython.core.display.HTML object>"
            ],
            "text/html": [
              "\n",
              "<!DOCTYPE html>\n",
              "<html lang=\"en\" dir=\"ltr\">\n",
              "<head>\n",
              "  <title>Intro to HTML</title>\n",
              "</head>\n",
              "\n",
              "<body>\n",
              "  <h1>Heading h1</h1>\n",
              "  <h2>Heading h2</h2>\n",
              "  <h3>Heading h3</h3>\n",
              "  <h4>Heading h4</h4>\n",
              "\n",
              "  <p>\n",
              "    That's a text paragraph. You can also <b>bold</b>, <mark>mark</mark>, <ins>underline</ins>, <del>strikethrough</del> and <i>emphasize</i> words.\n",
              "    You can also add links - here's one to <a href=\"https://en.wikipedia.org/wiki/Main_Page\">Wikipedia</a>.\n",
              "  </p>\n",
              "\n",
              "  <p>\n",
              "    This <br> is a paragraph <br> with <br> line breaks\n",
              "  </p>\n",
              "\n",
              "  <p style=\"color:red\">\n",
              "    Add colour to your paragraphs.\n",
              "  </p>\n",
              "\n",
              "  <p>Unordered list:</p>\n",
              "  <ul>\n",
              "    <li>Python</li>\n",
              "    <li>R</li>\n",
              "    <li>Julia</li>\n",
              "  </ul>\n",
              "\n",
              "  <p>Ordered list:</p>\n",
              "  <ol>\n",
              "    <li>Data collection</li>\n",
              "    <li>Exploratory data analysis</li>\n",
              "    <li>Data analysis</li>\n",
              "    <li>Policy recommendations</li>\n",
              "  </ol>\n",
              "  <hr>\n",
              "\n",
              "  <!-- This is a comment -->\n",
              "\n",
              "</body>\n",
              "</html>\n"
            ]
          },
          "metadata": {}
        }
      ]
    },
    {
      "cell_type": "markdown",
      "source": [
        "Web Scraping with requests and BeautifulSoup"
      ],
      "metadata": {
        "id": "w8wjYwQATb9I"
      }
    },
    {
      "cell_type": "code",
      "source": [
        "# Imports\n",
        "import requests\n",
        "import numpy as np\n",
        "import pandas as pd\n",
        "from bs4 import BeautifulSoup\n",
        "import matplotlib.pyplot as plt\n",
        "\n",
        "%matplotlib inline"
      ],
      "metadata": {
        "id": "con64RtqTeEo"
      },
      "execution_count": 4,
      "outputs": []
    },
    {
      "cell_type": "code",
      "source": [
        "# IMDB's homepage\n",
        "imdb_url = 'https://www.imdb.com'\n",
        "\n",
        "# Use requests to retrieve data from a given URL\n",
        "imdb_response = requests.get(imdb_url)\n",
        "\n",
        "# Parse the whole HTML page using BeautifulSoup\n",
        "imdb_soup = BeautifulSoup(imdb_response.text, 'html.parser')\n",
        "\n",
        "# Title of the parsed page\n",
        "imdb_soup.title"
      ],
      "metadata": {
        "colab": {
          "base_uri": "https://localhost:8080/"
        },
        "id": "uPFp9NL6Tl9j",
        "outputId": "1356217f-36ad-4468-e99d-2cf4299f52fa"
      },
      "execution_count": 5,
      "outputs": [
        {
          "output_type": "execute_result",
          "data": {
            "text/plain": [
              "<title>403 Forbidden</title>"
            ]
          },
          "metadata": {},
          "execution_count": 5
        }
      ]
    },
    {
      "cell_type": "code",
      "source": [
        "# We can also get it without the HTML tags\n",
        "imdb_soup.title.string"
      ],
      "metadata": {
        "colab": {
          "base_uri": "https://localhost:8080/",
          "height": 35
        },
        "id": "C9yLk7mGToRf",
        "outputId": "7955fa45-19c4-4264-8b3e-7adb193b60c9"
      },
      "execution_count": 6,
      "outputs": [
        {
          "output_type": "execute_result",
          "data": {
            "text/plain": [
              "'403 Forbidden'"
            ],
            "application/vnd.google.colaboratory.intrinsic+json": {
              "type": "string"
            }
          },
          "metadata": {},
          "execution_count": 6
        }
      ]
    },
    {
      "cell_type": "markdown",
      "source": [
        "Collect trailers' title and description"
      ],
      "metadata": {
        "id": "sXVVgyfNTxSK"
      }
    },
    {
      "cell_type": "code",
      "source": [
        "trailers = imdb_soup.find('div', {'class': 'ab_hero'})"
      ],
      "metadata": {
        "id": "bv8WQ5RpTyOA"
      },
      "execution_count": 7,
      "outputs": []
    },
    {
      "cell_type": "code",
      "source": [
        "# print(trailers.prettify())"
      ],
      "metadata": {
        "id": "DmyBNpm5T1FQ"
      },
      "execution_count": 8,
      "outputs": []
    }
  ]
}